{
 "cells": [
  {
   "cell_type": "code",
   "execution_count": null,
   "id": "865473a5-6aaf-49ad-808b-a68754e1c351",
   "metadata": {},
   "outputs": [],
   "source": [
    "Q1. What are the key steps involved in building an end-to-end web application, from development to \n",
    "deployment on the cloud?"
   ]
  },
  {
   "cell_type": "markdown",
   "id": "167cee77-034f-4767-b47e-015fd7da54d7",
   "metadata": {},
   "source": [
    "### below steps involved in end-to-end web application:\n",
    "1. Data collection\n",
    "2. EDA\n",
    "3. Feature engineering\n",
    "4. Model train\n",
    "5. Web App\n",
    "6. Deployment"
   ]
  },
  {
   "cell_type": "code",
   "execution_count": null,
   "id": "f3d5a726-71a7-4fd9-bcd1-efbdb3892a73",
   "metadata": {},
   "outputs": [],
   "source": [
    "Q2. Explain the difference between traditional web hosting and cloud hosting."
   ]
  },
  {
   "cell_type": "markdown",
   "id": "71522717-1df4-46ee-9d04-b3c8c6672f8f",
   "metadata": {},
   "source": [
    "#### Cloud hosting is more quickly scalable than traditional hosting. If an application or website receives more or less traffic, the cloud servers scale up and down automatically. With cloud hosting, there's no need to manually add or remove server space as there is in shared hosting."
   ]
  },
  {
   "cell_type": "code",
   "execution_count": null,
   "id": "2fde4470-5aca-4ac4-b6a6-8bd8294f6f42",
   "metadata": {},
   "outputs": [],
   "source": [
    "Q3. How do you choose the right cloud provider for your application deployment, and what factors \n",
    "should you consider?"
   ]
  },
  {
   "cell_type": "markdown",
   "id": "826be36c-5e4c-4c22-9b18-30496d193837",
   "metadata": {},
   "source": [
    "### How to pick a cloud service provider? Use these 8 key areas for consideration.\n",
    "1. Certifications & Standards.\n",
    "2. Technologies & Service Roadmap.\n",
    "3. Data Security, Data Governance and Business policies.\n",
    "4. Service Dependencies & Partnerships.\n",
    "5. Contracts, Commercials & SLAs.\n",
    "6. Reliability & Performance."
   ]
  },
  {
   "cell_type": "code",
   "execution_count": null,
   "id": "7b7fdeb5-42cc-4172-9e3f-92d6267e766a",
   "metadata": {},
   "outputs": [],
   "source": [
    "Q4. How do you design and build a responsive user interface for your web application, and what are \n",
    "some best practices to follow?"
   ]
  },
  {
   "cell_type": "markdown",
   "id": "b5bbf1ee-b5ca-4892-86c3-fafa9ccf6ffe",
   "metadata": {},
   "source": [
    "### How to create a Responsive Website\n",
    "1. Set Appropriate Responsive Breakpoints.\n",
    "2. Start with a Fluid Grid.\n",
    "3. Take touchscreens into consideration.\n",
    "4. Define Typography.\n",
    "5. Use a pre-designed theme or layout to save time.\n",
    "6. Test Responsiveness on Real Devices."
   ]
  },
  {
   "cell_type": "code",
   "execution_count": null,
   "id": "cbb9a826-e414-471a-92c2-702cd0a04418",
   "metadata": {},
   "outputs": [],
   "source": [
    "Q5. How do you integrate the machine learning model with the user interface for the Algerian Forest Fires \n",
    "project(which we discussed in class), and what APIs or libraries can you use for this purpose?"
   ]
  },
  {
   "cell_type": "markdown",
   "id": "dbb36589-c433-49a4-a6c4-d2fa8ccb57ff",
   "metadata": {},
   "source": [
    "#### Used pickle module to predict based on the trained data\n",
    "#### Flask is a used micro web framework for creating APIs in Python\n",
    "#### Git hub is used for repository\n",
    "#### AWS cloud is used to deploy end to end Linear RTegression model."
   ]
  }
 ],
 "metadata": {
  "kernelspec": {
   "display_name": "Python 3 (ipykernel)",
   "language": "python",
   "name": "python3"
  },
  "language_info": {
   "codemirror_mode": {
    "name": "ipython",
    "version": 3
   },
   "file_extension": ".py",
   "mimetype": "text/x-python",
   "name": "python",
   "nbconvert_exporter": "python",
   "pygments_lexer": "ipython3",
   "version": "3.10.8"
  }
 },
 "nbformat": 4,
 "nbformat_minor": 5
}
